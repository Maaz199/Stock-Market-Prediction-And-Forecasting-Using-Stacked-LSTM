{
 "cells": [
  {
   "cell_type": "markdown",
   "id": "14e50690",
   "metadata": {
    "papermill": {
     "duration": 0.015862,
     "end_time": "2021-09-14T14:12:01.014708",
     "exception": false,
     "start_time": "2021-09-14T14:12:00.998846",
     "status": "completed"
    },
    "tags": []
   },
   "source": [
    "# Stock Prices Prediction Using Keras Long Term Short Memory"
   ]
  },
  {
   "cell_type": "code",
   "execution_count": 1,
   "id": "1c71abf0",
   "metadata": {
    "execution": {
     "iopub.execute_input": "2021-09-14T14:12:01.047746Z",
     "iopub.status.busy": "2021-09-14T14:12:01.046594Z",
     "iopub.status.idle": "2021-09-14T14:12:01.060036Z",
     "shell.execute_reply": "2021-09-14T14:12:01.060701Z",
     "shell.execute_reply.started": "2021-09-14T13:53:20.106665Z"
    },
    "papermill": {
     "duration": 0.031558,
     "end_time": "2021-09-14T14:12:01.060980",
     "exception": false,
     "start_time": "2021-09-14T14:12:01.029422",
     "status": "completed"
    },
    "tags": []
   },
   "outputs": [],
   "source": [
    "# Part 1 - Data Preprocessing\n",
    "\n",
    "# Importing the libraries\n",
    "import numpy as np\n",
    "import matplotlib.pyplot as plt\n",
    "import pandas as pd"
   ]
  },
  {
   "cell_type": "code",
   "execution_count": 2,
   "id": "ea314e86",
   "metadata": {
    "execution": {
     "iopub.execute_input": "2021-09-14T14:12:01.099307Z",
     "iopub.status.busy": "2021-09-14T14:12:01.098379Z",
     "iopub.status.idle": "2021-09-14T14:12:01.129440Z",
     "shell.execute_reply": "2021-09-14T14:12:01.129977Z",
     "shell.execute_reply.started": "2021-09-14T13:53:20.113082Z"
    },
    "papermill": {
     "duration": 0.05472,
     "end_time": "2021-09-14T14:12:01.130154",
     "exception": false,
     "start_time": "2021-09-14T14:12:01.075434",
     "status": "completed"
    },
    "tags": []
   },
   "outputs": [],
   "source": [
    "# Importing the training set\n",
    "dataset_train = pd.read_csv('../input/tata-stock-from-2172010-2892018/NSE-TATAGLOBAL.csv')\n",
    "training_set = dataset_train.iloc[:, 1:2].values"
   ]
  },
  {
   "cell_type": "code",
   "execution_count": 3,
   "id": "b412ee48",
   "metadata": {
    "execution": {
     "iopub.execute_input": "2021-09-14T14:12:01.162469Z",
     "iopub.status.busy": "2021-09-14T14:12:01.161803Z",
     "iopub.status.idle": "2021-09-14T14:12:01.187647Z",
     "shell.execute_reply": "2021-09-14T14:12:01.188120Z",
     "shell.execute_reply.started": "2021-09-14T13:53:20.137239Z"
    },
    "papermill": {
     "duration": 0.04351,
     "end_time": "2021-09-14T14:12:01.188277",
     "exception": false,
     "start_time": "2021-09-14T14:12:01.144767",
     "status": "completed"
    },
    "tags": []
   },
   "outputs": [
    {
     "data": {
      "text/html": [
       "<div>\n",
       "<style scoped>\n",
       "    .dataframe tbody tr th:only-of-type {\n",
       "        vertical-align: middle;\n",
       "    }\n",
       "\n",
       "    .dataframe tbody tr th {\n",
       "        vertical-align: top;\n",
       "    }\n",
       "\n",
       "    .dataframe thead th {\n",
       "        text-align: right;\n",
       "    }\n",
       "</style>\n",
       "<table border=\"1\" class=\"dataframe\">\n",
       "  <thead>\n",
       "    <tr style=\"text-align: right;\">\n",
       "      <th></th>\n",
       "      <th>Date</th>\n",
       "      <th>Open</th>\n",
       "      <th>High</th>\n",
       "      <th>Low</th>\n",
       "      <th>Last</th>\n",
       "      <th>Close</th>\n",
       "      <th>Total Trade Quantity</th>\n",
       "      <th>Turnover (Lacs)</th>\n",
       "    </tr>\n",
       "  </thead>\n",
       "  <tbody>\n",
       "    <tr>\n",
       "      <th>0</th>\n",
       "      <td>2018-09-28</td>\n",
       "      <td>234.05</td>\n",
       "      <td>235.95</td>\n",
       "      <td>230.20</td>\n",
       "      <td>233.50</td>\n",
       "      <td>233.75</td>\n",
       "      <td>3069914</td>\n",
       "      <td>7162.35</td>\n",
       "    </tr>\n",
       "    <tr>\n",
       "      <th>1</th>\n",
       "      <td>2018-09-27</td>\n",
       "      <td>234.55</td>\n",
       "      <td>236.80</td>\n",
       "      <td>231.10</td>\n",
       "      <td>233.80</td>\n",
       "      <td>233.25</td>\n",
       "      <td>5082859</td>\n",
       "      <td>11859.95</td>\n",
       "    </tr>\n",
       "    <tr>\n",
       "      <th>2</th>\n",
       "      <td>2018-09-26</td>\n",
       "      <td>240.00</td>\n",
       "      <td>240.00</td>\n",
       "      <td>232.50</td>\n",
       "      <td>235.00</td>\n",
       "      <td>234.25</td>\n",
       "      <td>2240909</td>\n",
       "      <td>5248.60</td>\n",
       "    </tr>\n",
       "    <tr>\n",
       "      <th>3</th>\n",
       "      <td>2018-09-25</td>\n",
       "      <td>233.30</td>\n",
       "      <td>236.75</td>\n",
       "      <td>232.00</td>\n",
       "      <td>236.25</td>\n",
       "      <td>236.10</td>\n",
       "      <td>2349368</td>\n",
       "      <td>5503.90</td>\n",
       "    </tr>\n",
       "    <tr>\n",
       "      <th>4</th>\n",
       "      <td>2018-09-24</td>\n",
       "      <td>233.55</td>\n",
       "      <td>239.20</td>\n",
       "      <td>230.75</td>\n",
       "      <td>234.00</td>\n",
       "      <td>233.30</td>\n",
       "      <td>3423509</td>\n",
       "      <td>7999.55</td>\n",
       "    </tr>\n",
       "  </tbody>\n",
       "</table>\n",
       "</div>"
      ],
      "text/plain": [
       "         Date    Open    High     Low    Last   Close  Total Trade Quantity  \\\n",
       "0  2018-09-28  234.05  235.95  230.20  233.50  233.75               3069914   \n",
       "1  2018-09-27  234.55  236.80  231.10  233.80  233.25               5082859   \n",
       "2  2018-09-26  240.00  240.00  232.50  235.00  234.25               2240909   \n",
       "3  2018-09-25  233.30  236.75  232.00  236.25  236.10               2349368   \n",
       "4  2018-09-24  233.55  239.20  230.75  234.00  233.30               3423509   \n",
       "\n",
       "   Turnover (Lacs)  \n",
       "0          7162.35  \n",
       "1         11859.95  \n",
       "2          5248.60  \n",
       "3          5503.90  \n",
       "4          7999.55  "
      ]
     },
     "execution_count": 3,
     "metadata": {},
     "output_type": "execute_result"
    }
   ],
   "source": [
    "dataset_train.head()\n"
   ]
  },
  {
   "cell_type": "code",
   "execution_count": 4,
   "id": "8ccf4a41",
   "metadata": {
    "execution": {
     "iopub.execute_input": "2021-09-14T14:12:01.228405Z",
     "iopub.status.busy": "2021-09-14T14:12:01.227455Z",
     "iopub.status.idle": "2021-09-14T14:12:02.103235Z",
     "shell.execute_reply": "2021-09-14T14:12:02.102614Z",
     "shell.execute_reply.started": "2021-09-14T13:53:20.154947Z"
    },
    "papermill": {
     "duration": 0.899579,
     "end_time": "2021-09-14T14:12:02.103388",
     "exception": false,
     "start_time": "2021-09-14T14:12:01.203809",
     "status": "completed"
    },
    "tags": []
   },
   "outputs": [],
   "source": [
    "# Feature Scaling\n",
    "from sklearn.preprocessing import MinMaxScaler\n",
    "sc = MinMaxScaler(feature_range = (0, 1))\n",
    "training_set_scaled = sc.fit_transform(training_set)"
   ]
  },
  {
   "cell_type": "code",
   "execution_count": 5,
   "id": "0898ecf0",
   "metadata": {
    "execution": {
     "iopub.execute_input": "2021-09-14T14:12:02.141621Z",
     "iopub.status.busy": "2021-09-14T14:12:02.140941Z",
     "iopub.status.idle": "2021-09-14T14:12:02.146734Z",
     "shell.execute_reply": "2021-09-14T14:12:02.146121Z",
     "shell.execute_reply.started": "2021-09-14T13:53:20.167129Z"
    },
    "papermill": {
     "duration": 0.02862,
     "end_time": "2021-09-14T14:12:02.146870",
     "exception": false,
     "start_time": "2021-09-14T14:12:02.118250",
     "status": "completed"
    },
    "tags": []
   },
   "outputs": [],
   "source": [
    "# Creating a data structure with 60 timesteps and 1 output\n",
    "X_train = []\n",
    "y_train = []\n",
    "for i in range(60, 2035):\n",
    "    X_train.append(training_set_scaled[i-60:i, 0])\n",
    "    y_train.append(training_set_scaled[i, 0])\n",
    "X_train, y_train = np.array(X_train), np.array(y_train)"
   ]
  },
  {
   "cell_type": "code",
   "execution_count": 6,
   "id": "058bee7d",
   "metadata": {
    "execution": {
     "iopub.execute_input": "2021-09-14T14:12:02.179139Z",
     "iopub.status.busy": "2021-09-14T14:12:02.178566Z",
     "iopub.status.idle": "2021-09-14T14:12:02.181906Z",
     "shell.execute_reply": "2021-09-14T14:12:02.182386Z",
     "shell.execute_reply.started": "2021-09-14T13:53:20.182830Z"
    },
    "papermill": {
     "duration": 0.020962,
     "end_time": "2021-09-14T14:12:02.182547",
     "exception": false,
     "start_time": "2021-09-14T14:12:02.161585",
     "status": "completed"
    },
    "tags": []
   },
   "outputs": [],
   "source": [
    "# Reshaping\n",
    "X_train = np.reshape(X_train, (X_train.shape[0], X_train.shape[1], 1))"
   ]
  },
  {
   "cell_type": "code",
   "execution_count": 7,
   "id": "940c37bf",
   "metadata": {
    "execution": {
     "iopub.execute_input": "2021-09-14T14:12:02.215103Z",
     "iopub.status.busy": "2021-09-14T14:12:02.214503Z",
     "iopub.status.idle": "2021-09-14T14:12:07.267845Z",
     "shell.execute_reply": "2021-09-14T14:12:07.267222Z",
     "shell.execute_reply.started": "2021-09-14T13:53:20.190698Z"
    },
    "papermill": {
     "duration": 5.070585,
     "end_time": "2021-09-14T14:12:07.268000",
     "exception": false,
     "start_time": "2021-09-14T14:12:02.197415",
     "status": "completed"
    },
    "tags": []
   },
   "outputs": [
    {
     "name": "stderr",
     "output_type": "stream",
     "text": [
      "2021-09-14 14:12:02.843053: W tensorflow/stream_executor/platform/default/dso_loader.cc:60] Could not load dynamic library 'libcudart.so.11.0'; dlerror: libcudart.so.11.0: cannot open shared object file: No such file or directory; LD_LIBRARY_PATH: /opt/conda/lib\n",
      "2021-09-14 14:12:02.843169: I tensorflow/stream_executor/cuda/cudart_stub.cc:29] Ignore above cudart dlerror if you do not have a GPU set up on your machine.\n"
     ]
    }
   ],
   "source": [
    "# Part 2 - Building the RNN\n",
    "\n",
    "# Importing the Keras libraries and packages\n",
    "from tensorflow.keras.models import Sequential\n",
    "from tensorflow.keras.layers import Dense\n",
    "from tensorflow.keras.layers import LSTM\n",
    "from tensorflow.keras.layers import Dropout"
   ]
  },
  {
   "cell_type": "code",
   "execution_count": 8,
   "id": "03febaeb",
   "metadata": {
    "execution": {
     "iopub.execute_input": "2021-09-14T14:12:07.304856Z",
     "iopub.status.busy": "2021-09-14T14:12:07.304186Z",
     "iopub.status.idle": "2021-09-14T14:12:07.680610Z",
     "shell.execute_reply": "2021-09-14T14:12:07.681101Z",
     "shell.execute_reply.started": "2021-09-14T13:53:25.180271Z"
    },
    "papermill": {
     "duration": 0.397686,
     "end_time": "2021-09-14T14:12:07.681284",
     "exception": false,
     "start_time": "2021-09-14T14:12:07.283598",
     "status": "completed"
    },
    "tags": []
   },
   "outputs": [
    {
     "name": "stderr",
     "output_type": "stream",
     "text": [
      "2021-09-14 14:12:07.318965: I tensorflow/compiler/jit/xla_cpu_device.cc:41] Not creating XLA devices, tf_xla_enable_xla_devices not set\n",
      "2021-09-14 14:12:07.321724: W tensorflow/stream_executor/platform/default/dso_loader.cc:60] Could not load dynamic library 'libcuda.so.1'; dlerror: libcuda.so.1: cannot open shared object file: No such file or directory; LD_LIBRARY_PATH: /opt/conda/lib\n",
      "2021-09-14 14:12:07.321761: W tensorflow/stream_executor/cuda/cuda_driver.cc:326] failed call to cuInit: UNKNOWN ERROR (303)\n",
      "2021-09-14 14:12:07.321786: I tensorflow/stream_executor/cuda/cuda_diagnostics.cc:156] kernel driver does not appear to be running on this host (40f31e60f9be): /proc/driver/nvidia/version does not exist\n",
      "2021-09-14 14:12:07.322137: I tensorflow/core/platform/cpu_feature_guard.cc:142] This TensorFlow binary is optimized with oneAPI Deep Neural Network Library (oneDNN) to use the following CPU instructions in performance-critical operations:  AVX2 FMA\n",
      "To enable them in other operations, rebuild TensorFlow with the appropriate compiler flags.\n",
      "2021-09-14 14:12:07.322509: I tensorflow/compiler/jit/xla_gpu_device.cc:99] Not creating XLA devices, tf_xla_enable_xla_devices not set\n"
     ]
    }
   ],
   "source": [
    "# Initialising the RNN\n",
    "regressor = Sequential()\n",
    "\n",
    "# Adding the first LSTM layer and some Dropout regularisation\n",
    "regressor.add(LSTM(units = 50, return_sequences = True, input_shape = (X_train.shape[1], 1)))\n",
    "regressor.add(Dropout(0.2))"
   ]
  },
  {
   "cell_type": "code",
   "execution_count": 9,
   "id": "9b314425",
   "metadata": {
    "execution": {
     "iopub.execute_input": "2021-09-14T14:12:07.723434Z",
     "iopub.status.busy": "2021-09-14T14:12:07.721960Z",
     "iopub.status.idle": "2021-09-14T14:12:08.126969Z",
     "shell.execute_reply": "2021-09-14T14:12:08.126357Z",
     "shell.execute_reply.started": "2021-09-14T13:53:25.569866Z"
    },
    "papermill": {
     "duration": 0.430237,
     "end_time": "2021-09-14T14:12:08.127114",
     "exception": false,
     "start_time": "2021-09-14T14:12:07.696877",
     "status": "completed"
    },
    "tags": []
   },
   "outputs": [],
   "source": [
    "# Adding a second LSTM layer and some Dropout regularisation\n",
    "regressor.add(LSTM(units = 50, return_sequences = True))\n",
    "regressor.add(Dropout(0.2))"
   ]
  },
  {
   "cell_type": "code",
   "execution_count": 10,
   "id": "eab80c41",
   "metadata": {
    "execution": {
     "iopub.execute_input": "2021-09-14T14:12:08.169443Z",
     "iopub.status.busy": "2021-09-14T14:12:08.168790Z",
     "iopub.status.idle": "2021-09-14T14:12:08.388902Z",
     "shell.execute_reply": "2021-09-14T14:12:08.388348Z",
     "shell.execute_reply.started": "2021-09-14T13:53:25.990848Z"
    },
    "papermill": {
     "duration": 0.246226,
     "end_time": "2021-09-14T14:12:08.389050",
     "exception": false,
     "start_time": "2021-09-14T14:12:08.142824",
     "status": "completed"
    },
    "tags": []
   },
   "outputs": [],
   "source": [
    "\n",
    "# Adding a third LSTM layer and some Dropout regularisation\n",
    "regressor.add(LSTM(units = 50, return_sequences = True))\n",
    "regressor.add(Dropout(0.2))"
   ]
  },
  {
   "cell_type": "code",
   "execution_count": 11,
   "id": "9d63be65",
   "metadata": {
    "execution": {
     "iopub.execute_input": "2021-09-14T14:12:08.424281Z",
     "iopub.status.busy": "2021-09-14T14:12:08.423350Z",
     "iopub.status.idle": "2021-09-14T14:12:08.659096Z",
     "shell.execute_reply": "2021-09-14T14:12:08.659600Z",
     "shell.execute_reply.started": "2021-09-14T13:53:26.229036Z"
    },
    "papermill": {
     "duration": 0.25526,
     "end_time": "2021-09-14T14:12:08.659781",
     "exception": false,
     "start_time": "2021-09-14T14:12:08.404521",
     "status": "completed"
    },
    "tags": []
   },
   "outputs": [],
   "source": [
    "# Adding a fourth LSTM layer and some Dropout regularisation\n",
    "regressor.add(LSTM(units = 50))\n",
    "regressor.add(Dropout(0.2))\n"
   ]
  },
  {
   "cell_type": "code",
   "execution_count": 12,
   "id": "5e8936ba",
   "metadata": {
    "execution": {
     "iopub.execute_input": "2021-09-14T14:12:08.699269Z",
     "iopub.status.busy": "2021-09-14T14:12:08.698187Z",
     "iopub.status.idle": "2021-09-14T14:23:38.475381Z",
     "shell.execute_reply": "2021-09-14T14:23:38.476055Z",
     "shell.execute_reply.started": "2021-09-14T13:53:26.470216Z"
    },
    "papermill": {
     "duration": 689.801023,
     "end_time": "2021-09-14T14:23:38.476267",
     "exception": false,
     "start_time": "2021-09-14T14:12:08.675244",
     "status": "completed"
    },
    "tags": []
   },
   "outputs": [
    {
     "name": "stderr",
     "output_type": "stream",
     "text": [
      "2021-09-14 14:12:08.762024: I tensorflow/compiler/mlir/mlir_graph_optimization_pass.cc:116] None of the MLIR optimization passes are enabled (registered 2)\n",
      "2021-09-14 14:12:08.773039: I tensorflow/core/platform/profile_utils/cpu_utils.cc:112] CPU Frequency: 2199995000 Hz\n"
     ]
    },
    {
     "name": "stdout",
     "output_type": "stream",
     "text": [
      "Epoch 1/100\n",
      "62/62 [==============================] - 12s 105ms/step - loss: 0.0281\n",
      "Epoch 2/100\n",
      "62/62 [==============================] - 7s 105ms/step - loss: 0.0028\n",
      "Epoch 3/100\n",
      "62/62 [==============================] - 7s 108ms/step - loss: 0.0032\n",
      "Epoch 4/100\n",
      "62/62 [==============================] - 7s 106ms/step - loss: 0.0029\n",
      "Epoch 5/100\n",
      "62/62 [==============================] - 7s 109ms/step - loss: 0.0021\n",
      "Epoch 6/100\n",
      "62/62 [==============================] - 7s 107ms/step - loss: 0.0019\n",
      "Epoch 7/100\n",
      "62/62 [==============================] - 7s 107ms/step - loss: 0.0021\n",
      "Epoch 8/100\n",
      "62/62 [==============================] - 7s 109ms/step - loss: 0.0020\n",
      "Epoch 9/100\n",
      "62/62 [==============================] - 7s 108ms/step - loss: 0.0020\n",
      "Epoch 10/100\n",
      "62/62 [==============================] - 7s 107ms/step - loss: 0.0017\n",
      "Epoch 11/100\n",
      "62/62 [==============================] - 7s 106ms/step - loss: 0.0018\n",
      "Epoch 12/100\n",
      "62/62 [==============================] - 7s 105ms/step - loss: 0.0020\n",
      "Epoch 13/100\n",
      "62/62 [==============================] - 7s 109ms/step - loss: 0.0016\n",
      "Epoch 14/100\n",
      "62/62 [==============================] - 7s 106ms/step - loss: 0.0017\n",
      "Epoch 15/100\n",
      "62/62 [==============================] - 7s 107ms/step - loss: 0.0015\n",
      "Epoch 16/100\n",
      "62/62 [==============================] - 7s 106ms/step - loss: 0.0016\n",
      "Epoch 17/100\n",
      "62/62 [==============================] - 7s 106ms/step - loss: 0.0018\n",
      "Epoch 18/100\n",
      "62/62 [==============================] - 7s 111ms/step - loss: 0.0014\n",
      "Epoch 19/100\n",
      "62/62 [==============================] - 7s 108ms/step - loss: 0.0013\n",
      "Epoch 20/100\n",
      "62/62 [==============================] - 7s 108ms/step - loss: 0.0014\n",
      "Epoch 21/100\n",
      "62/62 [==============================] - 7s 107ms/step - loss: 0.0015\n",
      "Epoch 22/100\n",
      "62/62 [==============================] - 7s 107ms/step - loss: 0.0014\n",
      "Epoch 23/100\n",
      "62/62 [==============================] - 7s 111ms/step - loss: 0.0015\n",
      "Epoch 24/100\n",
      "62/62 [==============================] - 7s 107ms/step - loss: 0.0012\n",
      "Epoch 25/100\n",
      "62/62 [==============================] - 7s 107ms/step - loss: 0.0013\n",
      "Epoch 26/100\n",
      "62/62 [==============================] - 7s 107ms/step - loss: 0.0014\n",
      "Epoch 27/100\n",
      "62/62 [==============================] - 7s 114ms/step - loss: 0.0011\n",
      "Epoch 28/100\n",
      "62/62 [==============================] - 7s 109ms/step - loss: 9.8305e-04\n",
      "Epoch 29/100\n",
      "62/62 [==============================] - 7s 109ms/step - loss: 9.8308e-04\n",
      "Epoch 30/100\n",
      "62/62 [==============================] - 7s 108ms/step - loss: 0.0011\n",
      "Epoch 31/100\n",
      "62/62 [==============================] - 7s 107ms/step - loss: 0.0015\n",
      "Epoch 32/100\n",
      "62/62 [==============================] - 7s 110ms/step - loss: 0.0011\n",
      "Epoch 33/100\n",
      "62/62 [==============================] - 7s 109ms/step - loss: 0.0011\n",
      "Epoch 34/100\n",
      "62/62 [==============================] - 7s 106ms/step - loss: 0.0015\n",
      "Epoch 35/100\n",
      "62/62 [==============================] - 7s 111ms/step - loss: 0.0011\n",
      "Epoch 36/100\n",
      "62/62 [==============================] - 7s 109ms/step - loss: 9.5269e-04\n",
      "Epoch 37/100\n",
      "62/62 [==============================] - 7s 108ms/step - loss: 8.0685e-04\n",
      "Epoch 38/100\n",
      "62/62 [==============================] - 7s 107ms/step - loss: 0.0011\n",
      "Epoch 39/100\n",
      "62/62 [==============================] - 7s 109ms/step - loss: 0.0013\n",
      "Epoch 40/100\n",
      "62/62 [==============================] - 7s 111ms/step - loss: 8.8219e-04\n",
      "Epoch 41/100\n",
      "62/62 [==============================] - 7s 109ms/step - loss: 9.8853e-04\n",
      "Epoch 42/100\n",
      "62/62 [==============================] - 7s 106ms/step - loss: 8.0462e-04\n",
      "Epoch 43/100\n",
      "62/62 [==============================] - 8s 128ms/step - loss: 7.4531e-04\n",
      "Epoch 44/100\n",
      "62/62 [==============================] - 8s 126ms/step - loss: 8.5144e-04\n",
      "Epoch 45/100\n",
      "62/62 [==============================] - 7s 113ms/step - loss: 9.6504e-04\n",
      "Epoch 46/100\n",
      "62/62 [==============================] - 7s 108ms/step - loss: 8.7143e-04\n",
      "Epoch 47/100\n",
      "62/62 [==============================] - 7s 108ms/step - loss: 0.0011\n",
      "Epoch 48/100\n",
      "62/62 [==============================] - 7s 108ms/step - loss: 0.0012\n",
      "Epoch 49/100\n",
      "62/62 [==============================] - 7s 115ms/step - loss: 8.7970e-04\n",
      "Epoch 50/100\n",
      "62/62 [==============================] - 7s 114ms/step - loss: 8.2300e-04\n",
      "Epoch 51/100\n",
      "62/62 [==============================] - 7s 108ms/step - loss: 8.8276e-04\n",
      "Epoch 52/100\n",
      "62/62 [==============================] - 7s 108ms/step - loss: 8.4198e-04\n",
      "Epoch 53/100\n",
      "62/62 [==============================] - 7s 108ms/step - loss: 8.4630e-04\n",
      "Epoch 54/100\n",
      "62/62 [==============================] - 7s 114ms/step - loss: 7.4510e-04\n",
      "Epoch 55/100\n",
      "62/62 [==============================] - 7s 109ms/step - loss: 9.8640e-04\n",
      "Epoch 56/100\n",
      "62/62 [==============================] - 7s 108ms/step - loss: 8.9527e-04\n",
      "Epoch 57/100\n",
      "62/62 [==============================] - 7s 108ms/step - loss: 8.6102e-04\n",
      "Epoch 58/100\n",
      "62/62 [==============================] - 7s 107ms/step - loss: 8.5958e-04\n",
      "Epoch 59/100\n",
      "62/62 [==============================] - 7s 116ms/step - loss: 7.4082e-04\n",
      "Epoch 60/100\n",
      "62/62 [==============================] - 7s 109ms/step - loss: 7.2382e-04\n",
      "Epoch 61/100\n",
      "62/62 [==============================] - 7s 107ms/step - loss: 8.8936e-04\n",
      "Epoch 62/100\n",
      "62/62 [==============================] - 7s 108ms/step - loss: 8.7180e-04\n",
      "Epoch 63/100\n",
      "62/62 [==============================] - 7s 111ms/step - loss: 8.2813e-04\n",
      "Epoch 64/100\n",
      "62/62 [==============================] - 7s 113ms/step - loss: 6.6626e-04\n",
      "Epoch 65/100\n",
      "62/62 [==============================] - 7s 112ms/step - loss: 7.9613e-04\n",
      "Epoch 66/100\n",
      "62/62 [==============================] - 7s 113ms/step - loss: 9.2041e-04\n",
      "Epoch 67/100\n",
      "62/62 [==============================] - 7s 110ms/step - loss: 6.8588e-04\n",
      "Epoch 68/100\n",
      "62/62 [==============================] - 7s 112ms/step - loss: 6.5081e-04\n",
      "Epoch 69/100\n",
      "62/62 [==============================] - 7s 116ms/step - loss: 7.3217e-04\n",
      "Epoch 70/100\n",
      "62/62 [==============================] - 7s 111ms/step - loss: 7.4522e-04\n",
      "Epoch 71/100\n",
      "62/62 [==============================] - 7s 110ms/step - loss: 7.2624e-04\n",
      "Epoch 72/100\n",
      "62/62 [==============================] - 7s 111ms/step - loss: 5.9492e-04\n",
      "Epoch 73/100\n",
      "62/62 [==============================] - 7s 117ms/step - loss: 6.2512e-04\n",
      "Epoch 74/100\n",
      "62/62 [==============================] - 7s 113ms/step - loss: 6.8760e-04\n",
      "Epoch 75/100\n",
      "62/62 [==============================] - 7s 109ms/step - loss: 6.0774e-04\n",
      "Epoch 76/100\n",
      "62/62 [==============================] - 7s 109ms/step - loss: 8.3628e-04\n",
      "Epoch 77/100\n",
      "62/62 [==============================] - 7s 110ms/step - loss: 7.3704e-04\n",
      "Epoch 78/100\n",
      "62/62 [==============================] - 7s 119ms/step - loss: 7.8644e-04\n",
      "Epoch 79/100\n",
      "62/62 [==============================] - 7s 111ms/step - loss: 5.4469e-04\n",
      "Epoch 80/100\n",
      "62/62 [==============================] - 7s 110ms/step - loss: 5.4904e-04\n",
      "Epoch 81/100\n",
      "62/62 [==============================] - 7s 110ms/step - loss: 6.6361e-04\n",
      "Epoch 82/100\n",
      "62/62 [==============================] - 7s 111ms/step - loss: 6.2635e-04\n",
      "Epoch 83/100\n",
      "62/62 [==============================] - 7s 114ms/step - loss: 5.3179e-04\n",
      "Epoch 84/100\n",
      "62/62 [==============================] - 7s 110ms/step - loss: 5.9396e-04\n",
      "Epoch 85/100\n",
      "62/62 [==============================] - 7s 115ms/step - loss: 7.3394e-04\n",
      "Epoch 86/100\n",
      "62/62 [==============================] - 7s 112ms/step - loss: 7.4723e-04\n",
      "Epoch 87/100\n",
      "62/62 [==============================] - 7s 117ms/step - loss: 6.4519e-04\n",
      "Epoch 88/100\n",
      "62/62 [==============================] - 7s 110ms/step - loss: 6.9305e-04\n",
      "Epoch 89/100\n",
      "62/62 [==============================] - 7s 115ms/step - loss: 6.7388e-04\n",
      "Epoch 90/100\n",
      "62/62 [==============================] - 7s 110ms/step - loss: 5.9936e-04\n",
      "Epoch 91/100\n",
      "62/62 [==============================] - 7s 110ms/step - loss: 5.5935e-04\n",
      "Epoch 92/100\n",
      "62/62 [==============================] - 7s 117ms/step - loss: 7.4436e-04\n",
      "Epoch 93/100\n",
      "62/62 [==============================] - 7s 110ms/step - loss: 7.6908e-04\n",
      "Epoch 94/100\n",
      "62/62 [==============================] - 7s 114ms/step - loss: 6.5008e-04\n",
      "Epoch 95/100\n",
      "62/62 [==============================] - 7s 110ms/step - loss: 6.0802e-04\n",
      "Epoch 96/100\n",
      "62/62 [==============================] - 7s 111ms/step - loss: 8.7678e-04\n",
      "Epoch 97/100\n",
      "62/62 [==============================] - 7s 118ms/step - loss: 8.0358e-04\n",
      "Epoch 98/100\n",
      "62/62 [==============================] - 7s 111ms/step - loss: 5.3413e-04\n",
      "Epoch 99/100\n",
      "62/62 [==============================] - 7s 109ms/step - loss: 6.2679e-04\n",
      "Epoch 100/100\n",
      "62/62 [==============================] - 7s 110ms/step - loss: 6.8635e-04\n"
     ]
    },
    {
     "data": {
      "text/plain": [
       "<tensorflow.python.keras.callbacks.History at 0x7f43e861dc10>"
      ]
     },
     "execution_count": 12,
     "metadata": {},
     "output_type": "execute_result"
    }
   ],
   "source": [
    "# Adding the output layer\n",
    "regressor.add(Dense(units = 1))\n",
    "\n",
    "# Compiling the RNN\n",
    "regressor.compile(optimizer = 'adam', loss = 'mean_squared_error')\n",
    "\n",
    "# Fitting the RNN to the Training set\n",
    "regressor.fit(X_train, y_train, epochs = 100, batch_size = 32)\n",
    "\n"
   ]
  },
  {
   "cell_type": "code",
   "execution_count": 13,
   "id": "eeaba998",
   "metadata": {
    "execution": {
     "iopub.execute_input": "2021-09-14T14:23:42.349622Z",
     "iopub.status.busy": "2021-09-14T14:23:42.348880Z",
     "iopub.status.idle": "2021-09-14T14:23:42.370928Z",
     "shell.execute_reply": "2021-09-14T14:23:42.370349Z",
     "shell.execute_reply.started": "2021-09-14T14:04:34.477253Z"
    },
    "papermill": {
     "duration": 1.961134,
     "end_time": "2021-09-14T14:23:42.371066",
     "exception": false,
     "start_time": "2021-09-14T14:23:40.409932",
     "status": "completed"
    },
    "tags": []
   },
   "outputs": [],
   "source": [
    "# Part 3 - Making the predictions and visualising the results\n",
    "\n",
    "# Getting the real stock price of 2017\n",
    "dataset_test = pd.read_csv('../input/tata-stock-from-2172010-2892018/tatatest.csv')\n",
    "real_stock_price = dataset_test.iloc[:, 1:2].values"
   ]
  },
  {
   "cell_type": "code",
   "execution_count": 14,
   "id": "c1d4f9d6",
   "metadata": {
    "execution": {
     "iopub.execute_input": "2021-09-14T14:23:46.311637Z",
     "iopub.status.busy": "2021-09-14T14:23:46.310524Z",
     "iopub.status.idle": "2021-09-14T14:23:48.149169Z",
     "shell.execute_reply": "2021-09-14T14:23:48.148630Z",
     "shell.execute_reply.started": "2021-09-14T14:04:34.500612Z"
    },
    "papermill": {
     "duration": 3.804155,
     "end_time": "2021-09-14T14:23:48.149411",
     "exception": false,
     "start_time": "2021-09-14T14:23:44.345256",
     "status": "completed"
    },
    "tags": []
   },
   "outputs": [],
   "source": [
    "# Getting the predicted stock price of 2017\n",
    "dataset_total = pd.concat((dataset_train['Open'], dataset_test['Open']), axis = 0)\n",
    "inputs = dataset_total[len(dataset_total) - len(dataset_test) - 60:].values\n",
    "inputs = inputs.reshape(-1,1)\n",
    "inputs = sc.transform(inputs)\n",
    "X_test = []\n",
    "for i in range(60, 76):\n",
    "    X_test.append(inputs[i-60:i, 0])\n",
    "X_test = np.array(X_test)\n",
    "X_test = np.reshape(X_test, (X_test.shape[0], X_test.shape[1], 1))\n",
    "predicted_stock_price = regressor.predict(X_test)\n",
    "predicted_stock_price = sc.inverse_transform(predicted_stock_price)\n"
   ]
  },
  {
   "cell_type": "code",
   "execution_count": 15,
   "id": "2fbf1738",
   "metadata": {
    "execution": {
     "iopub.execute_input": "2021-09-14T14:23:52.014392Z",
     "iopub.status.busy": "2021-09-14T14:23:52.013655Z",
     "iopub.status.idle": "2021-09-14T14:23:52.288086Z",
     "shell.execute_reply": "2021-09-14T14:23:52.287425Z",
     "shell.execute_reply.started": "2021-09-14T14:04:36.109151Z"
    },
    "papermill": {
     "duration": 2.213585,
     "end_time": "2021-09-14T14:23:52.288254",
     "exception": false,
     "start_time": "2021-09-14T14:23:50.074669",
     "status": "completed"
    },
    "tags": []
   },
   "outputs": [
    {
     "data": {
      "image/png": "[encoded data removed]",
      "text/plain": [
       "<Figure size 432x288 with 1 Axes>"
      ]
     },
     "metadata": {
      "needs_background": "light"
     },
     "output_type": "display_data"
    }
   ],
   "source": [
    "# Visualising the results\n",
    "plt.plot(real_stock_price, color = 'red', label = 'Real TATA Stock Price')\n",
    "plt.plot(predicted_stock_price, color = 'blue', label = 'Predicted TAT Stock Price')\n",
    "plt.title('TATA Stock Price Prediction')\n",
    "plt.xlabel('Time')\n",
    "plt.ylabel('TATA Stock Price')\n",
    "plt.legend()\n",
    "plt.show()"
   ]
  },
  {
   "cell_type": "code",
   "execution_count": null,
   "id": "9891fc45",
   "metadata": {
    "papermill": {
     "duration": 1.985403,
     "end_time": "2021-09-14T14:23:56.262408",
     "exception": false,
     "start_time": "2021-09-14T14:23:54.277005",
     "status": "completed"
    },
    "tags": []
   },
   "outputs": [],
   "source": []
  }
 ],
 "metadata": {
  "kernelspec": {
   "display_name": "Python 3",
   "language": "python",
   "name": "python3"
  },
  "language_info": {
   "codemirror_mode": {
    "name": "ipython",
    "version": 3
   },
   "file_extension": ".py",
   "mimetype": "text/x-python",
   "name": "python",
   "nbconvert_exporter": "python",
   "pygments_lexer": "ipython3",
   "version": "3.7.10"
  },
  "papermill": {
   "default_parameters": {},
   "duration": 728.378678,
   "end_time": "2021-09-14T14:24:01.326542",
   "environment_variables": {},
   "exception": null,
   "input_path": "__notebook__.ipynb",
   "output_path": "__notebook__.ipynb",
   "parameters": {},
   "start_time": "2021-09-14T14:11:52.947864",
   "version": "2.3.3"
  }
 },
 "nbformat": 4,
 "nbformat_minor": 5
}
